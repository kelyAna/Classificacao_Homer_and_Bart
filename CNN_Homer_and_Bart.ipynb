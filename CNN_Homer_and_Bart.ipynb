{
 "cells": [
  {
   "cell_type": "markdown",
   "metadata": {},
   "source": [
    "**Rede Neural Convolucional(CNN) para reconhecimento de imagens dos personagens de Simpsons, Homer e Bart**"
   ]
  },
  {
   "cell_type": "markdown",
   "metadata": {},
   "source": [
    "Importações iniciais"
   ]
  },
  {
   "cell_type": "code",
   "execution_count": 2,
   "metadata": {},
   "outputs": [],
   "source": [
    "from keras.models import Sequential\n",
    "from keras.layers import Conv2D, MaxPooling2D, Flatten, Dense, Dropout\n",
    "from keras.layers.normalization import BatchNormalization \n",
    "from keras.preprocessing.image import ImageDataGenerator"
   ]
  },
  {
   "cell_type": "markdown",
   "metadata": {},
   "source": [
    "Estrutura da Rede Neural"
   ]
  },
  {
   "cell_type": "code",
   "execution_count": 4,
   "metadata": {},
   "outputs": [],
   "source": [
    "classificador = Sequential()\n",
    "classificador.add(Conv2D(32, (3,3), input_shape = (64,64,3), activation = 'relu'))\n",
    "classificador.add(BatchNormalization())\n",
    "classificador.add(MaxPooling2D(pool_size = (2,2)))\n",
    "\n",
    "classificador.add(Conv2D(32, (3,3), input_shape = (64,64,3), activation = 'relu'))\n",
    "classificador.add(BatchNormalization())\n",
    "classificador.add(MaxPooling2D(pool_size = (2,2)))\n",
    "\n",
    "classificador.add(Flatten())"
   ]
  },
  {
   "cell_type": "markdown",
   "metadata": {},
   "source": [
    "Criação da Rede Neural Densa"
   ]
  },
  {
   "cell_type": "code",
   "execution_count": 5,
   "metadata": {},
   "outputs": [],
   "source": [
    "classificador.add(Dense(units = 128, activation = 'relu'))\n",
    "classificador.add(Dropout(0.2))\n",
    "classificador.add(Dense(units = 128, activation = 'relu'))\n",
    "classificador.add(Dropout(0.2))\n",
    "classificador.add(Dense(units = 1, activation = 'sigmoid'))\n",
    "\n",
    "classificador.compile(optimizer = 'adam', loss = 'binary_crossentropy',\n",
    "                     metrics = ['accuracy'])"
   ]
  },
  {
   "cell_type": "markdown",
   "metadata": {},
   "source": [
    "Processo de Augumentation e testes com a Rede Neural"
   ]
  },
  {
   "cell_type": "markdown",
   "metadata": {},
   "source": [
    "* Augumentaion é o processo de aumentar a quantidade de imagens, utilizando recursos do Keras."
   ]
  },
  {
   "cell_type": "code",
   "execution_count": 8,
   "metadata": {},
   "outputs": [],
   "source": [
    "gerador_train = ImageDataGenerator(rescale = 1./255,\n",
    "                                  rotation_range = 7,\n",
    "                                  horizontal_flip = True,\n",
    "                                  shear_range = 0.2,\n",
    "                                  height_shift_range = 0.07,\n",
    "                                  zoom_range = 0.2)"
   ]
  },
  {
   "cell_type": "code",
   "execution_count": 9,
   "metadata": {},
   "outputs": [],
   "source": [
    "gerador_test = ImageDataGenerator(rescale = 1./255)"
   ]
  },
  {
   "cell_type": "markdown",
   "metadata": {},
   "source": [
    "Leitura da base dados"
   ]
  },
  {
   "cell_type": "markdown",
   "metadata": {},
   "source": [
    "* Base de Dados de treinamento"
   ]
  },
  {
   "cell_type": "code",
   "execution_count": 18,
   "metadata": {},
   "outputs": [
    {
     "name": "stdout",
     "output_type": "stream",
     "text": [
      "Found 196 images belonging to 2 classes.\n"
     ]
    }
   ],
   "source": [
    "base_train = gerador_train.flow_from_directory('training_set/',\n",
    "                                                    target_size = (64,64),\n",
    "                                                    batch_size = 32,\n",
    "                                                    class_mode = 'binary')"
   ]
  },
  {
   "cell_type": "markdown",
   "metadata": {},
   "source": [
    "* Base de Dados de teste"
   ]
  },
  {
   "cell_type": "code",
   "execution_count": 19,
   "metadata": {},
   "outputs": [
    {
     "name": "stdout",
     "output_type": "stream",
     "text": [
      "Found 73 images belonging to 2 classes.\n"
     ]
    }
   ],
   "source": [
    "base_test = gerador_test.flow_from_directory('test_set/',\n",
    "                                            target_size = (64,64),\n",
    "                                            batch_size = 32,\n",
    "                                            class_mode = 'binary')"
   ]
  },
  {
   "cell_type": "markdown",
   "metadata": {},
   "source": [
    "Treinamento da Rede Neural"
   ]
  },
  {
   "cell_type": "code",
   "execution_count": 22,
   "metadata": {},
   "outputs": [
    {
     "name": "stdout",
     "output_type": "stream",
     "text": [
      "Epoch 1/10\n",
      "196/196 [==============================] - 37s 189ms/step - loss: 0.2855 - accuracy: 0.8750 - val_loss: 0.5310 - val_accuracy: 0.7534\n",
      "Epoch 2/10\n",
      "196/196 [==============================] - 34s 172ms/step - loss: 0.0679 - accuracy: 0.9758 - val_loss: 0.5773 - val_accuracy: 0.8240\n",
      "Epoch 3/10\n",
      "196/196 [==============================] - 34s 173ms/step - loss: 0.0685 - accuracy: 0.9810 - val_loss: 1.4904 - val_accuracy: 0.8910\n",
      "Epoch 4/10\n",
      "196/196 [==============================] - 35s 178ms/step - loss: 0.0819 - accuracy: 0.9801 - val_loss: 1.6520 - val_accuracy: 0.7124\n",
      "Epoch 5/10\n",
      "196/196 [==============================] - 36s 186ms/step - loss: 0.0532 - accuracy: 0.9832 - val_loss: 1.1287 - val_accuracy: 0.7814\n",
      "Epoch 6/10\n",
      "196/196 [==============================] - 34s 171ms/step - loss: 0.0914 - accuracy: 0.9789 - val_loss: 0.9355 - val_accuracy: 0.8081\n",
      "Epoch 7/10\n",
      "196/196 [==============================] - 34s 173ms/step - loss: 0.0297 - accuracy: 0.9905 - val_loss: 0.4862 - val_accuracy: 0.8772\n",
      "Epoch 8/10\n",
      "196/196 [==============================] - 33s 167ms/step - loss: 0.0114 - accuracy: 0.9971 - val_loss: 0.4746 - val_accuracy: 0.8627\n",
      "Epoch 9/10\n",
      "196/196 [==============================] - 34s 175ms/step - loss: 0.0052 - accuracy: 0.9989 - val_loss: 1.0182 - val_accuracy: 0.8631\n",
      "Epoch 10/10\n",
      "196/196 [==============================] - 39s 201ms/step - loss: 0.0599 - accuracy: 0.9869 - val_loss: 0.5413 - val_accuracy: 0.8901\n"
     ]
    },
    {
     "data": {
      "text/plain": [
       "<keras.callbacks.callbacks.History at 0x7fb3a45fecc0>"
      ]
     },
     "execution_count": 22,
     "metadata": {},
     "output_type": "execute_result"
    }
   ],
   "source": [
    "classificador.fit_generator(base_train, steps_per_epoch = 196,\n",
    "                           epochs = 10, validation_data = base_test,\n",
    "                           validation_steps = 73)"
   ]
  },
  {
   "cell_type": "code",
   "execution_count": 44,
   "metadata": {},
   "outputs": [],
   "source": [
    "precisao = classificador.evaluate_generator(base_test, steps = len(base_test), verbose = 0)"
   ]
  },
  {
   "cell_type": "code",
   "execution_count": 47,
   "metadata": {},
   "outputs": [
    {
     "data": {
      "text/plain": [
       "[0.33561936020851135, 0.8904109597206116]"
      ]
     },
     "execution_count": 47,
     "metadata": {},
     "output_type": "execute_result"
    }
   ],
   "source": [
    "precisao"
   ]
  },
  {
   "cell_type": "code",
   "execution_count": null,
   "metadata": {},
   "outputs": [],
   "source": []
  }
 ],
 "metadata": {
  "kernelspec": {
   "display_name": "Python 3",
   "language": "python",
   "name": "python3"
  },
  "language_info": {
   "codemirror_mode": {
    "name": "ipython",
    "version": 3
   },
   "file_extension": ".py",
   "mimetype": "text/x-python",
   "name": "python",
   "nbconvert_exporter": "python",
   "pygments_lexer": "ipython3",
   "version": "3.7.3"
  }
 },
 "nbformat": 4,
 "nbformat_minor": 2
}
